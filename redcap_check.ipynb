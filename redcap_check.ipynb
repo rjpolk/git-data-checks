{
 "cells": [
  {
   "cell_type": "code",
   "execution_count": 87,
   "metadata": {},
   "outputs": [],
   "source": [
    "#this script checks for missing and complete data for participants\n",
    "#this is currently set up for the AOL study REDCap measures\n",
    "#\n",
    "#TO USE: \n",
    "#download .csv files raw (not the labels option) and put the unzipped file in the data_dir directory\n",
    "#update the participants you need to check\n",
    "#save the file to whatever directory works best for you\n",
    "#\n",
    "# BP 8/2/20\n",
    "\n",
    "#SET UP#\n",
    "\n",
    "#calling libraries\n",
    "import pandas as pd\n",
    "import xlwt\n",
    "from xlwt import Workbook\n",
    "\n",
    "#subjects to check\n",
    "#script will not run if you try to add a subject that does not exist on redcap\n",
    "subs = ['131001', '132001', '132002', '20', '21' ]\n",
    "\n",
    "#directory where data is stored. Must have double \\\\ not just a single \\\n",
    "data_dir = 'C:\\\\Users\\\\Becca\\Dropbox (UFL)\\\\Lab Studies\\\\AOL\\\\data back up checks\\\\data\\\\'\n",
    "#directory where you want to save the check output files. Must have double \\\\ not just a single \\\n",
    "save_dir = 'C:\\\\Users\\\\Becca\\Dropbox (UFL)\\\\Lab Studies\\\\AOL\\\\data back up checks\\\\data\\\\'\n",
    "\n",
    "#must make sure file names match and subID columns are correct\n",
    "file_name=\"AgingOnLine_DATA_2020-08-02_2326.csv\"\n",
    "sub_id_column= \"record_id\"\n",
    "\n",
    "#what file names to save. Can change as needed\n",
    "save_name_complete = 'redcap_complete_files.xls'\n",
    "save_name_missing = 'redcap_missing_files.xls'\n",
    "\n",
    "#opening 2 workbooks to write results\n",
    "wb1 = Workbook()\n",
    "wb2 = Workbook()"
   ]
  },
  {
   "cell_type": "code",
   "execution_count": 89,
   "metadata": {},
   "outputs": [
    {
     "ename": "Exception",
     "evalue": "duplicate worksheet name 'TICS complete5'",
     "output_type": "error",
     "traceback": [
      "\u001b[1;31m---------------------------------------------------------------------------\u001b[0m",
      "\u001b[1;31mException\u001b[0m                                 Traceback (most recent call last)",
      "\u001b[1;32m<ipython-input-89-4f3344e3b26a>\u001b[0m in \u001b[0;36m<module>\u001b[1;34m\u001b[0m\n\u001b[0;32m      5\u001b[0m \u001b[1;33m\u001b[0m\u001b[0m\n\u001b[0;32m      6\u001b[0m \u001b[1;31m#creating the sheets in the excel file where output will be written\u001b[0m\u001b[1;33m\u001b[0m\u001b[1;33m\u001b[0m\u001b[1;33m\u001b[0m\u001b[0m\n\u001b[1;32m----> 7\u001b[1;33m \u001b[0msheet1\u001b[0m \u001b[1;33m=\u001b[0m \u001b[0mwb1\u001b[0m\u001b[1;33m.\u001b[0m\u001b[0madd_sheet\u001b[0m\u001b[1;33m(\u001b[0m\u001b[1;34m'TICS complete5'\u001b[0m\u001b[1;33m)\u001b[0m\u001b[1;33m\u001b[0m\u001b[1;33m\u001b[0m\u001b[0m\n\u001b[0m\u001b[0;32m      8\u001b[0m \u001b[0msheet2\u001b[0m \u001b[1;33m=\u001b[0m \u001b[0mwb2\u001b[0m\u001b[1;33m.\u001b[0m\u001b[0madd_sheet\u001b[0m\u001b[1;33m(\u001b[0m\u001b[1;34m'TICS missing5'\u001b[0m\u001b[1;33m)\u001b[0m\u001b[1;33m\u001b[0m\u001b[1;33m\u001b[0m\u001b[0m\n\u001b[0;32m      9\u001b[0m \u001b[1;33m\u001b[0m\u001b[0m\n",
      "\u001b[1;32m~\\Anaconda3\\lib\\site-packages\\xlwt\\Workbook.py\u001b[0m in \u001b[0;36madd_sheet\u001b[1;34m(self, sheetname, cell_overwrite_ok)\u001b[0m\n\u001b[0;32m    369\u001b[0m         \u001b[0mlower_name\u001b[0m \u001b[1;33m=\u001b[0m \u001b[0msheetname\u001b[0m\u001b[1;33m.\u001b[0m\u001b[0mlower\u001b[0m\u001b[1;33m(\u001b[0m\u001b[1;33m)\u001b[0m\u001b[1;33m\u001b[0m\u001b[1;33m\u001b[0m\u001b[0m\n\u001b[0;32m    370\u001b[0m         \u001b[1;32mif\u001b[0m \u001b[0mlower_name\u001b[0m \u001b[1;32min\u001b[0m \u001b[0mself\u001b[0m\u001b[1;33m.\u001b[0m\u001b[0m__worksheet_idx_from_name\u001b[0m\u001b[1;33m:\u001b[0m\u001b[1;33m\u001b[0m\u001b[1;33m\u001b[0m\u001b[0m\n\u001b[1;32m--> 371\u001b[1;33m             \u001b[1;32mraise\u001b[0m \u001b[0mException\u001b[0m\u001b[1;33m(\u001b[0m\u001b[1;34m\"duplicate worksheet name %r\"\u001b[0m \u001b[1;33m%\u001b[0m \u001b[0msheetname\u001b[0m\u001b[1;33m)\u001b[0m\u001b[1;33m\u001b[0m\u001b[1;33m\u001b[0m\u001b[0m\n\u001b[0m\u001b[0;32m    372\u001b[0m         \u001b[0mself\u001b[0m\u001b[1;33m.\u001b[0m\u001b[0m__worksheet_idx_from_name\u001b[0m\u001b[1;33m[\u001b[0m\u001b[0mlower_name\u001b[0m\u001b[1;33m]\u001b[0m \u001b[1;33m=\u001b[0m \u001b[0mlen\u001b[0m\u001b[1;33m(\u001b[0m\u001b[0mself\u001b[0m\u001b[1;33m.\u001b[0m\u001b[0m__worksheets\u001b[0m\u001b[1;33m)\u001b[0m\u001b[1;33m\u001b[0m\u001b[1;33m\u001b[0m\u001b[0m\n\u001b[0;32m    373\u001b[0m         \u001b[0mself\u001b[0m\u001b[1;33m.\u001b[0m\u001b[0m__worksheets\u001b[0m\u001b[1;33m.\u001b[0m\u001b[0mappend\u001b[0m\u001b[1;33m(\u001b[0m\u001b[0mWorksheet\u001b[0m\u001b[1;33m(\u001b[0m\u001b[0msheetname\u001b[0m\u001b[1;33m,\u001b[0m \u001b[0mself\u001b[0m\u001b[1;33m,\u001b[0m \u001b[0mcell_overwrite_ok\u001b[0m\u001b[1;33m)\u001b[0m\u001b[1;33m)\u001b[0m\u001b[1;33m\u001b[0m\u001b[1;33m\u001b[0m\u001b[0m\n",
      "\u001b[1;31mException\u001b[0m: duplicate worksheet name 'TICS complete5'"
     ]
    }
   ],
   "source": [
    "#TICS\n",
    "\n",
    "#change this to whatever the column header is called for the particular measure of interest\n",
    "complete_column=\"tics_complete\"\n",
    "\n",
    "#creating the sheets in the excel file where output will be written\n",
    "sheet1 = wb1.add_sheet('TICS complete')\n",
    "sheet2 = wb2.add_sheet('TICS missing')\n",
    "\n",
    "#putting headers of subID in each excel sheet\n",
    "sheet1.write(0,0,'subID')\n",
    "sheet2.write(0,0,'subID')\n",
    "\n",
    "#setting a counter to input data in the correct excel cell\n",
    "place_counter_missing=0\n",
    "place_counter_complete=0\n",
    "\n",
    "#creating a list of 2 header names. Only these 2 will be read in\n",
    "col_list = [sub_id_column, complete_column]\n",
    "\n",
    "#reading in the redcap file with only the 2 headers\n",
    "df = pd.read_csv(r'' + data_dir + filename,  usecols=col_list)\n",
    "\n",
    "#turning the 2 excel columns into lists so we can manipulate the data\n",
    "data_list_id = df[sub_id_column].tolist()\n",
    "data_list_data = df[complete_column].tolist()\n",
    "\n",
    "for x in subs:\n",
    "    loc = data_list_id.index(x) #finding the location of the subID\n",
    "    if data_list_data[loc]==2: #comparing the location of the subID and data value. 2 means complete, 1 means incomplete, 0 means not started\n",
    "        place_counter_complete=place_counter_complete+1 #updating the complete place counter so we will write to a new cell\n",
    "        sheet1.write(place_counter_complete, 0, x) #write the subID (x) into the correct cell in the complete workbook\n",
    "    if data_list_data[loc]!=2: #comparing the location of the subID and data value\n",
    "        place_counter_missing=place_counter_missing+1 #updating the missing place counter\n",
    "        sheet2.write(place_counter_missing, 0, x) #write the subID into the correct cell in the missing workbook\n",
    "\n",
    "#saving the workborks .xlsx files\n",
    "wb1.save(save_dir + save_name_complete)\n",
    "wb2.save(save_dir + save_name_missing)"
   ]
  },
  {
   "cell_type": "code",
   "execution_count": 73,
   "metadata": {},
   "outputs": [],
   "source": [
    "#BDI\n",
    "\n",
    "complete_column=\"bdi_complete\"\n",
    "\n",
    "sheet1 = wb1.add_sheet('BDI complete')\n",
    "sheet2 = wb2.add_sheet('BDI missing')\n",
    "\n",
    "#putting headers of subID in each excel sheet\n",
    "sheet1.write(0,0,'subID')\n",
    "sheet2.write(0,0,'subID')\n",
    "\n",
    "#setting a counter to input data in the correct excel cell\n",
    "place_counter_missing=0\n",
    "place_counter_complete=0\n",
    "\n",
    "#creating a list of 2 header names. Only these 2 will be read in\n",
    "col_list = [sub_id_column, complete_column]\n",
    "\n",
    "#reading in the redcap file with only the 2 headers\n",
    "df = pd.read_csv(r'' + data_dir + filename,  usecols=col_list)\n",
    "\n",
    "#turning the 2 excel columns into lists so we can manipulate the data\n",
    "data_list_id = df[sub_id_column].tolist()\n",
    "data_list_data = df[complete_column].tolist()\n",
    "\n",
    "for x in subs:\n",
    "    loc = data_list_id.index(x) #finding the location of the subID\n",
    "    if data_list_data[loc]==2: #comparing the location of the subID and data value. 2 means complete, 1 means incomplete, 0 means not started\n",
    "        place_counter_complete=place_counter_complete+1 #updating the complete place counter so we will write to a new cell\n",
    "        sheet1.write(place_counter_complete, 0, x) #write the subID (x) into the correct cell in the complete workbook\n",
    "    if data_list_data[loc]!=2: #comparing the location of the subID and data value\n",
    "        place_counter_missing=place_counter_missing+1 #updating the missing place counter\n",
    "        sheet2.write(place_counter_missing, 0, x) #write the subID into the correct cell in the missing workbook\n",
    "\n",
    "#saving the workborks .xlsx files\n",
    "wb1.save(save_dir + save_name_complete)\n",
    "wb2.save(save_dir + save_name_missing)"
   ]
  },
  {
   "cell_type": "code",
   "execution_count": 74,
   "metadata": {},
   "outputs": [],
   "source": [
    "#CCI\n",
    "\n",
    "complete_column=\"cci_complete\"\n",
    "\n",
    "sheet1 = wb1.add_sheet('CCI complete')\n",
    "sheet2 = wb2.add_sheet('CCI missing')\n",
    "\n",
    "#putting headers of subID in each excel sheet\n",
    "sheet1.write(0,0,'subID')\n",
    "sheet2.write(0,0,'subID')\n",
    "\n",
    "#setting a counter to input data in the correct excel cell\n",
    "place_counter_missing=0\n",
    "place_counter_complete=0\n",
    "\n",
    "#creating a list of 2 header names. Only these 2 will be read in\n",
    "col_list = [sub_id_column, complete_column]\n",
    "\n",
    "#reading in the redcap file with only the 2 headers\n",
    "df = pd.read_csv(r'' + data_dir + filename,  usecols=col_list)\n",
    "\n",
    "#turning the 2 excel columns into lists so we can manipulate the data\n",
    "data_list_id = df[sub_id_column].tolist()\n",
    "data_list_data = df[complete_column].tolist()\n",
    "\n",
    "for x in subs:\n",
    "    loc = data_list_id.index(x) #finding the location of the subID\n",
    "    if data_list_data[loc]==2: #comparing the location of the subID and data value. 2 means complete, 1 means incomplete, 0 means not started\n",
    "        place_counter_complete=place_counter_complete+1 #updating the complete place counter so we will write to a new cell\n",
    "        sheet1.write(place_counter_complete, 0, x) #write the subID (x) into the correct cell in the complete workbook\n",
    "    if data_list_data[loc]!=2: #comparing the location of the subID and data value\n",
    "        place_counter_missing=place_counter_missing+1 #updating the missing place counter\n",
    "        sheet2.write(place_counter_missing, 0, x) #write the subID into the correct cell in the missing workbook\n",
    "\n",
    "#saving the workborks .xlsx files\n",
    "wb1.save(save_dir + save_name_complete)\n",
    "wb2.save(save_dir + save_name_missing)"
   ]
  },
  {
   "cell_type": "code",
   "execution_count": null,
   "metadata": {},
   "outputs": [],
   "source": [
    "#BTACT\n",
    "\n",
    "complete_column=\"btact_data_entry_complete\"\n",
    "\n",
    "sheet1 = wb1.add_sheet('BTACT complete')\n",
    "sheet2 = wb2.add_sheet('BTACT missing')\n",
    "\n",
    "#putting headers of subID in each excel sheet\n",
    "sheet1.write(0,0,'subID')\n",
    "sheet2.write(0,0,'subID')\n",
    "\n",
    "#setting a counter to input data in the correct excel cell\n",
    "place_counter_missing=0\n",
    "place_counter_complete=0\n",
    "\n",
    "#creating a list of 2 header names. Only these 2 will be read in\n",
    "col_list = [sub_id_column, complete_column]\n",
    "\n",
    "#reading in the redcap file with only the 2 headers\n",
    "df = pd.read_csv(r'' + data_dir + filename,  usecols=col_list)\n",
    "\n",
    "#turning the 2 excel columns into lists so we can manipulate the data\n",
    "data_list_id = df[sub_id_column].tolist()\n",
    "data_list_data = df[complete_column].tolist()\n",
    "\n",
    "for x in subs:\n",
    "    loc = data_list_id.index(x) #finding the location of the subID\n",
    "    if data_list_data[loc]==2: #comparing the location of the subID and data value. 2 means complete, 1 means incomplete, 0 means not started\n",
    "        place_counter_complete=place_counter_complete+1 #updating the complete place counter so we will write to a new cell\n",
    "        sheet1.write(place_counter_complete, 0, x) #write the subID (x) into the correct cell in the complete workbook\n",
    "    if data_list_data[loc]!=2: #comparing the location of the subID and data value\n",
    "        place_counter_missing=place_counter_missing+1 #updating the missing place counter\n",
    "        sheet2.write(place_counter_missing, 0, x) #write the subID into the correct cell in the missing workbook\n",
    "\n",
    "#saving the workborks .xlsx files\n",
    "wb1.save(save_dir + save_name_complete)\n",
    "wb2.save(save_dir + save_name_missing)"
   ]
  },
  {
   "cell_type": "code",
   "execution_count": null,
   "metadata": {},
   "outputs": [],
   "source": [
    "#NIH emotion toolbox\n",
    "\n",
    "complete_column=\"nih_emotion_toolbox_complete\"\n",
    "\n",
    "sheet1 = wb1.add_sheet('NIH emotion toolbox complete')\n",
    "sheet2 = wb2.add_sheet('NIH emotion toolbox missing')\n",
    "\n",
    "#putting headers of subID in each excel sheet\n",
    "sheet1.write(0,0,'subID')\n",
    "sheet2.write(0,0,'subID')\n",
    "\n",
    "#setting a counter to input data in the correct excel cell\n",
    "place_counter_missing=0\n",
    "place_counter_complete=0\n",
    "\n",
    "#creating a list of 2 header names. Only these 2 will be read in\n",
    "col_list = [sub_id_column, complete_column]\n",
    "\n",
    "#reading in the redcap file with only the 2 headers\n",
    "df = pd.read_csv(r'' + data_dir + filename,  usecols=col_list)\n",
    "\n",
    "#turning the 2 excel columns into lists so we can manipulate the data\n",
    "data_list_id = df[sub_id_column].tolist()\n",
    "data_list_data = df[complete_column].tolist()\n",
    "\n",
    "for x in subs:\n",
    "    loc = data_list_id.index(x) #finding the location of the subID\n",
    "    if data_list_data[loc]==2: #comparing the location of the subID and data value. 2 means complete, 1 means incomplete, 0 means not started\n",
    "        place_counter_complete=place_counter_complete+1 #updating the complete place counter so we will write to a new cell\n",
    "        sheet1.write(place_counter_complete, 0, x) #write the subID (x) into the correct cell in the complete workbook\n",
    "    if data_list_data[loc]!=2: #comparing the location of the subID and data value\n",
    "        place_counter_missing=place_counter_missing+1 #updating the missing place counter\n",
    "        sheet2.write(place_counter_missing, 0, x) #write the subID into the correct cell in the missing workbook\n",
    "\n",
    "#saving the workborks .xlsx files\n",
    "wb1.save(save_dir + save_name_complete)\n",
    "wb2.save(save_dir + save_name_missing)"
   ]
  },
  {
   "cell_type": "code",
   "execution_count": null,
   "metadata": {},
   "outputs": [],
   "source": [
    "crt_complete"
   ]
  },
  {
   "cell_type": "code",
   "execution_count": null,
   "metadata": {},
   "outputs": [],
   "source": [
    "tasit_scoring_version_a_complete"
   ]
  },
  {
   "cell_type": "code",
   "execution_count": null,
   "metadata": {},
   "outputs": [],
   "source": [
    "tasit_scoring_version_b_complete"
   ]
  },
  {
   "cell_type": "code",
   "execution_count": null,
   "metadata": {},
   "outputs": [],
   "source": [
    "bfi_complete"
   ]
  },
  {
   "cell_type": "code",
   "execution_count": null,
   "metadata": {},
   "outputs": [],
   "source": [
    "maia_complete"
   ]
  },
  {
   "cell_type": "code",
   "execution_count": null,
   "metadata": {},
   "outputs": [],
   "source": [
    "acme_complete"
   ]
  },
  {
   "cell_type": "code",
   "execution_count": null,
   "metadata": {},
   "outputs": [],
   "source": [
    "rof_complete"
   ]
  },
  {
   "cell_type": "code",
   "execution_count": null,
   "metadata": {},
   "outputs": [],
   "source": [
    "hrs_complete"
   ]
  },
  {
   "cell_type": "code",
   "execution_count": null,
   "metadata": {},
   "outputs": [],
   "source": [
    "its_complete"
   ]
  },
  {
   "cell_type": "code",
   "execution_count": null,
   "metadata": {},
   "outputs": [],
   "source": [
    "ess_complete"
   ]
  },
  {
   "cell_type": "code",
   "execution_count": null,
   "metadata": {},
   "outputs": [],
   "source": [
    "quest_complete"
   ]
  },
  {
   "cell_type": "code",
   "execution_count": null,
   "metadata": {},
   "outputs": [],
   "source": [
    "fldq_complete"
   ]
  },
  {
   "cell_type": "code",
   "execution_count": null,
   "metadata": {},
   "outputs": [],
   "source": [
    "rmet_complete"
   ]
  },
  {
   "cell_type": "code",
   "execution_count": null,
   "metadata": {},
   "outputs": [],
   "source": [
    "fa_complete"
   ]
  },
  {
   "cell_type": "code",
   "execution_count": null,
   "metadata": {},
   "outputs": [],
   "source": [
    "sni_complete"
   ]
  },
  {
   "cell_type": "code",
   "execution_count": null,
   "metadata": {},
   "outputs": [],
   "source": [
    "teq_complete"
   ]
  },
  {
   "cell_type": "code",
   "execution_count": null,
   "metadata": {},
   "outputs": [],
   "source": [
    "ucla_complete"
   ]
  },
  {
   "cell_type": "code",
   "execution_count": null,
   "metadata": {},
   "outputs": [],
   "source": [
    "iri_complete"
   ]
  },
  {
   "cell_type": "code",
   "execution_count": null,
   "metadata": {},
   "outputs": [],
   "source": [
    "stai_complete"
   ]
  },
  {
   "cell_type": "code",
   "execution_count": null,
   "metadata": {},
   "outputs": [],
   "source": [
    "fwbs_complete"
   ]
  },
  {
   "cell_type": "code",
   "execution_count": null,
   "metadata": {},
   "outputs": [],
   "source": [
    "fps_complete"
   ]
  },
  {
   "cell_type": "code",
   "execution_count": null,
   "metadata": {},
   "outputs": [],
   "source": [
    "moca_complete"
   ]
  },
  {
   "cell_type": "code",
   "execution_count": null,
   "metadata": {},
   "outputs": [],
   "source": [
    "qap_part_1_complete"
   ]
  },
  {
   "cell_type": "code",
   "execution_count": null,
   "metadata": {},
   "outputs": [],
   "source": [
    "qap_part_2_complete"
   ]
  },
  {
   "cell_type": "code",
   "execution_count": null,
   "metadata": {},
   "outputs": [],
   "source": [
    "safer_data_entry_complete"
   ]
  },
  {
   "cell_type": "code",
   "execution_count": null,
   "metadata": {},
   "outputs": [],
   "source": [
    "ti_complete"
   ]
  },
  {
   "cell_type": "code",
   "execution_count": null,
   "metadata": {},
   "outputs": [],
   "source": [
    "stss_complete"
   ]
  },
  {
   "cell_type": "code",
   "execution_count": null,
   "metadata": {},
   "outputs": [],
   "source": [
    "oafem_complete"
   ]
  },
  {
   "cell_type": "code",
   "execution_count": null,
   "metadata": {},
   "outputs": [],
   "source": [
    "spq_complete"
   ]
  },
  {
   "cell_type": "code",
   "execution_count": null,
   "metadata": {},
   "outputs": [],
   "source": [
    "scam_complete"
   ]
  },
  {
   "cell_type": "code",
   "execution_count": null,
   "metadata": {},
   "outputs": [],
   "source": [
    "svs_complete"
   ]
  },
  {
   "cell_type": "code",
   "execution_count": null,
   "metadata": {},
   "outputs": [],
   "source": [
    "feoa_complete"
   ]
  },
  {
   "cell_type": "code",
   "execution_count": null,
   "metadata": {},
   "outputs": [],
   "source": [
    "feoa_middle_complete"
   ]
  },
  {
   "cell_type": "code",
   "execution_count": null,
   "metadata": {},
   "outputs": [],
   "source": [
    "feoa_young_complete"
   ]
  },
  {
   "cell_type": "code",
   "execution_count": null,
   "metadata": {},
   "outputs": [],
   "source": [
    "debriefing_survey_complete"
   ]
  },
  {
   "cell_type": "code",
   "execution_count": null,
   "metadata": {},
   "outputs": [],
   "source": [
    "amris_safety_form_complete"
   ]
  },
  {
   "cell_type": "code",
   "execution_count": null,
   "metadata": {},
   "outputs": [],
   "source": [
    "post_mri_questionnaire_complete"
   ]
  },
  {
   "cell_type": "code",
   "execution_count": null,
   "metadata": {},
   "outputs": [],
   "source": [
    "nacc_complete"
   ]
  },
  {
   "cell_type": "code",
   "execution_count": null,
   "metadata": {},
   "outputs": [],
   "source": [
    "faq_complete"
   ]
  },
  {
   "cell_type": "code",
   "execution_count": null,
   "metadata": {},
   "outputs": [],
   "source": [
    "cdr_complete"
   ]
  },
  {
   "cell_type": "code",
   "execution_count": null,
   "metadata": {},
   "outputs": [],
   "source": [
    "faq_informant_complete"
   ]
  },
  {
   "cell_type": "code",
   "execution_count": null,
   "metadata": {},
   "outputs": [],
   "source": [
    "cdr_2_informant_complete"
   ]
  },
  {
   "cell_type": "code",
   "execution_count": null,
   "metadata": {},
   "outputs": [],
   "source": [
    "cci_informant_complete"
   ]
  },
  {
   "cell_type": "code",
   "execution_count": null,
   "metadata": {},
   "outputs": [],
   "source": [
    "demographics_informant_complete"
   ]
  },
  {
   "cell_type": "code",
   "execution_count": null,
   "metadata": {},
   "outputs": [],
   "source": [
    "vishing_call_a_checklist_complete"
   ]
  },
  {
   "cell_type": "code",
   "execution_count": null,
   "metadata": {},
   "outputs": [],
   "source": [
    "vishing_call_b_checklist_complete"
   ]
  },
  {
   "cell_type": "code",
   "execution_count": null,
   "metadata": {},
   "outputs": [],
   "source": [
    "vishing_call_c_checklist_complete"
   ]
  },
  {
   "cell_type": "code",
   "execution_count": null,
   "metadata": {},
   "outputs": [],
   "source": [
    "vishing_call_d_checklist_complete"
   ]
  },
  {
   "cell_type": "code",
   "execution_count": null,
   "metadata": {},
   "outputs": [],
   "source": [
    "participant_information_sheet_prescreen"
   ]
  },
  {
   "cell_type": "code",
   "execution_count": null,
   "metadata": {},
   "outputs": [],
   "source": [
    "scd_criteria"
   ]
  }
 ],
 "metadata": {
  "kernelspec": {
   "display_name": "Python 3",
   "language": "python",
   "name": "python3"
  },
  "language_info": {
   "codemirror_mode": {
    "name": "ipython",
    "version": 3
   },
   "file_extension": ".py",
   "mimetype": "text/x-python",
   "name": "python",
   "nbconvert_exporter": "python",
   "pygments_lexer": "ipython3",
   "version": "3.7.4"
  }
 },
 "nbformat": 4,
 "nbformat_minor": 4
}
